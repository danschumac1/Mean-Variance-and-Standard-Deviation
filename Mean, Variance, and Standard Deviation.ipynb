{
 "cells": [
  {
   "cell_type": "code",
   "execution_count": null,
   "id": "7ab3eaf9",
   "metadata": {},
   "outputs": [],
   "source": [
    "# I write functions to show mean, variance, standard deviation etc."
   ]
  },
  {
   "cell_type": "code",
   "execution_count": 13,
   "id": "6edb16bb",
   "metadata": {},
   "outputs": [],
   "source": [
    "#Turn these into functions"
   ]
  },
  {
   "cell_type": "code",
   "execution_count": 14,
   "id": "8129d6ab",
   "metadata": {},
   "outputs": [],
   "source": [
    "import math"
   ]
  },
  {
   "cell_type": "code",
   "execution_count": 19,
   "id": "1dc59f22",
   "metadata": {},
   "outputs": [],
   "source": [
    "#this finds the mean given a list\n",
    "\n",
    "def find_xbar(mylist):\n",
    "    xbar = sum(mylist)/len(mylist)\n",
    "    return xbar"
   ]
  },
  {
   "cell_type": "code",
   "execution_count": 20,
   "id": "99872ea9",
   "metadata": {},
   "outputs": [
    {
     "data": {
      "text/plain": [
       "43.2"
      ]
     },
     "execution_count": 20,
     "metadata": {},
     "output_type": "execute_result"
    }
   ],
   "source": [
    "find_xbar([43,35,38,56,29,33,46,63,49,40])"
   ]
  },
  {
   "cell_type": "code",
   "execution_count": 29,
   "id": "a70756ad",
   "metadata": {},
   "outputs": [],
   "source": [
    "#this finds the variance given a list\n",
    "\n",
    "def find_s_squared(mylist):\n",
    "    \n",
    "    #find mean\n",
    "    xbar = find_xbar(mylist)\n",
    "    \n",
    "    dif_from_mean_list = []\n",
    "    \n",
    "    #for each item in the list, distance to the mean squared and save to dif_from_mean_list\n",
    "    for item in mylist:\n",
    "        dif_from_mean_list.append((item-xbar)**2)\n",
    "    \n",
    "    # sum up the dif_from_mean_list and divide by len of list-1 (for unbiased)\n",
    "    s_squared = sum(dif_from_mean_list)/(len(dif_from_mean_list)-1)\n",
    "\n",
    "    return s_squared"
   ]
  },
  {
   "cell_type": "code",
   "execution_count": 30,
   "id": "bfab6d1e",
   "metadata": {},
   "outputs": [
    {
     "data": {
      "text/plain": [
       "111.95555555555556"
      ]
     },
     "execution_count": 30,
     "metadata": {},
     "output_type": "execute_result"
    }
   ],
   "source": [
    "find_s_squared([43,35,38,56,29,33,46,63,49,40])"
   ]
  },
  {
   "cell_type": "code",
   "execution_count": 31,
   "id": "2e0d5542",
   "metadata": {},
   "outputs": [],
   "source": [
    "#this finds the standard deviation given a list\n",
    "\n",
    "def find_s(mylist):\n",
    "    s_squared = find_s_squared(mylist)\n",
    "    s = math.sqrt(s_squared)\n",
    "    return s"
   ]
  },
  {
   "cell_type": "code",
   "execution_count": 32,
   "id": "5daebed6",
   "metadata": {},
   "outputs": [
    {
     "data": {
      "text/plain": [
       "10.58090523327544"
      ]
     },
     "execution_count": 32,
     "metadata": {},
     "output_type": "execute_result"
    }
   ],
   "source": [
    "find_s([43,35,38,56,29,33,46,63,49,40])"
   ]
  },
  {
   "cell_type": "code",
   "execution_count": 41,
   "id": "2c973c81",
   "metadata": {},
   "outputs": [],
   "source": [
    "#This prints a sorted list in addition to the the length, mean, variance, and standard deviation given a list\n",
    "def give_me_the_data(mylist):\n",
    "    \n",
    "    #sort\n",
    "    mylist.sort()\n",
    "    print(\"Ordered List:\",mylist)\n",
    "    \n",
    "    #length\n",
    "    n = len(mylist)\n",
    "    print(\"n:\",n)    \n",
    "    #Mean\n",
    "    print('Mean:',find_xbar(mylist))\n",
    "    \n",
    "    #Variance\n",
    "    print('Variance:',find_s_squared(mylist))\n",
    "    \n",
    "    #Standard Deviation\n",
    "    print('Variance:',find_s(mylist))    \n",
    "    "
   ]
  },
  {
   "cell_type": "code",
   "execution_count": 42,
   "id": "97dd4d77",
   "metadata": {
    "scrolled": true
   },
   "outputs": [
    {
     "name": "stdout",
     "output_type": "stream",
     "text": [
      "Ordered List: [29, 33, 35, 38, 40, 43, 46, 49, 56, 63]\n",
      "n: 10\n",
      "Mean: 43.2\n",
      "Variance: 111.95555555555558\n",
      "Variance: 10.58090523327544\n"
     ]
    }
   ],
   "source": [
    "give_me_the_data([43,35,38,56,29,33,46,63,49,40])"
   ]
  },
  {
   "cell_type": "code",
   "execution_count": null,
   "id": "db6acdf2",
   "metadata": {},
   "outputs": [],
   "source": [
    "# Or, of course, you could have python do all of the heavy lifting"
   ]
  },
  {
   "cell_type": "code",
   "execution_count": 48,
   "id": "0ce422e7",
   "metadata": {},
   "outputs": [],
   "source": [
    "import statistics"
   ]
  },
  {
   "cell_type": "code",
   "execution_count": 49,
   "id": "aae9a79b",
   "metadata": {},
   "outputs": [
    {
     "data": {
      "text/plain": [
       "43.2"
      ]
     },
     "execution_count": 49,
     "metadata": {},
     "output_type": "execute_result"
    }
   ],
   "source": [
    "statistics.mean(mylist)"
   ]
  },
  {
   "cell_type": "code",
   "execution_count": 50,
   "id": "34ffe0d0",
   "metadata": {},
   "outputs": [
    {
     "data": {
      "text/plain": [
       "111.95555555555556"
      ]
     },
     "execution_count": 50,
     "metadata": {},
     "output_type": "execute_result"
    }
   ],
   "source": [
    "statistics.variance(mylist)"
   ]
  },
  {
   "cell_type": "code",
   "execution_count": 51,
   "id": "07ba2d41",
   "metadata": {},
   "outputs": [
    {
     "data": {
      "text/plain": [
       "10.58090523327544"
      ]
     },
     "execution_count": 51,
     "metadata": {},
     "output_type": "execute_result"
    }
   ],
   "source": [
    "statistics.stdev(mylist)"
   ]
  }
 ],
 "metadata": {
  "kernelspec": {
   "display_name": "Python 3 (ipykernel)",
   "language": "python",
   "name": "python3"
  },
  "language_info": {
   "codemirror_mode": {
    "name": "ipython",
    "version": 3
   },
   "file_extension": ".py",
   "mimetype": "text/x-python",
   "name": "python",
   "nbconvert_exporter": "python",
   "pygments_lexer": "ipython3",
   "version": "3.9.12"
  }
 },
 "nbformat": 4,
 "nbformat_minor": 5
}
